{
  "cells": [
    {
      "cell_type": "markdown",
      "metadata": {
        "id": "H9wADwK78DCz"
      },
      "source": [
        "# Proyek Analisis Data: Bike Sharing Dataset\n",
        "- **Nama:** Nicky Valentino (m007b4ky3360)\n",
        "- **Email:** nickyv.valentino@gmail.com\n",
        "- **ID Dicoding:** nicky_valentino"
      ]
    },
    {
      "cell_type": "markdown",
      "metadata": {
        "id": "eE0raob58DC0"
      },
      "source": [
        "## Menentukan Pertanyaan Bisnis"
      ]
    },
    {
      "cell_type": "markdown",
      "metadata": {
        "id": "GmQeQ5YF8DC0"
      },
      "source": [
        "- How do weather affect the total number of bike rentals?\n",
        "- How does the number of bike rentals differ between registered and casual users on weekdays and weekends?"
      ]
    },
    {
      "cell_type": "markdown",
      "metadata": {
        "id": "H-z4QGlO8DC1"
      },
      "source": [
        "## Import Semua Packages/Library yang Digunakan"
      ]
    },
    {
      "cell_type": "code",
      "execution_count": 89,
      "metadata": {
        "id": "FVYwaObI8DC1",
        "colab": {
          "base_uri": "https://localhost:8080/"
        },
        "outputId": "e6cce64a-f316-452e-c47d-9e852c4906f1"
      },
      "outputs": [
        {
          "output_type": "stream",
          "name": "stdout",
          "text": [
            "Requirement already satisfied: gdown in /usr/local/lib/python3.10/dist-packages (5.2.0)\n",
            "Requirement already satisfied: beautifulsoup4 in /usr/local/lib/python3.10/dist-packages (from gdown) (4.12.3)\n",
            "Requirement already satisfied: filelock in /usr/local/lib/python3.10/dist-packages (from gdown) (3.16.1)\n",
            "Requirement already satisfied: requests[socks] in /usr/local/lib/python3.10/dist-packages (from gdown) (2.32.3)\n",
            "Requirement already satisfied: tqdm in /usr/local/lib/python3.10/dist-packages (from gdown) (4.66.5)\n",
            "Requirement already satisfied: soupsieve>1.2 in /usr/local/lib/python3.10/dist-packages (from beautifulsoup4->gdown) (2.6)\n",
            "Requirement already satisfied: charset-normalizer<4,>=2 in /usr/local/lib/python3.10/dist-packages (from requests[socks]->gdown) (3.3.2)\n",
            "Requirement already satisfied: idna<4,>=2.5 in /usr/local/lib/python3.10/dist-packages (from requests[socks]->gdown) (3.10)\n",
            "Requirement already satisfied: urllib3<3,>=1.21.1 in /usr/local/lib/python3.10/dist-packages (from requests[socks]->gdown) (2.2.3)\n",
            "Requirement already satisfied: certifi>=2017.4.17 in /usr/local/lib/python3.10/dist-packages (from requests[socks]->gdown) (2024.8.30)\n",
            "Requirement already satisfied: PySocks!=1.5.7,>=1.5.6 in /usr/local/lib/python3.10/dist-packages (from requests[socks]->gdown) (1.7.1)\n",
            "Mounted at /content/drive\n",
            "/usr/local/lib/python3.10/dist-packages/gdown/__main__.py:140: FutureWarning: Option `--id` was deprecated in version 4.3.1 and will be removed in 5.0. You don't need to pass it anymore to use a file ID.\n",
            "  warnings.warn(\n",
            "Downloading...\n",
            "From: https://drive.google.com/uc?id=1Wc0J5Rm-OlpW6SfckqMPsJO1RqWNc1CU\n",
            "To: /content/day.csv\n",
            "100% 57.6k/57.6k [00:00<00:00, 5.11MB/s]\n",
            "/usr/local/lib/python3.10/dist-packages/gdown/__main__.py:140: FutureWarning: Option `--id` was deprecated in version 4.3.1 and will be removed in 5.0. You don't need to pass it anymore to use a file ID.\n",
            "  warnings.warn(\n",
            "Downloading...\n",
            "From: https://drive.google.com/uc?id=1P23cvP7k2d7B6XzI7Rr9-1Ev5R5MuyRW\n",
            "To: /content/hour.csv\n",
            "100% 1.16M/1.16M [00:00<00:00, 17.1MB/s]\n"
          ]
        }
      ],
      "source": [
        "import numpy as np\n",
        "import pandas as pd\n",
        "import matplotlib.pyplot as plt\n",
        "import seaborn as sns\n",
        "\n",
        "!pip install gdown\n",
        "\n",
        "from google.colab import drive\n",
        "drive.mount('/content/drive')\n",
        "\n",
        "!gdown --id 1Wc0J5Rm-OlpW6SfckqMPsJO1RqWNc1CU\n",
        "!gdown --id 1P23cvP7k2d7B6XzI7Rr9-1Ev5R5MuyRW"
      ]
    },
    {
      "cell_type": "markdown",
      "metadata": {
        "id": "h_Sh51Xy8DC1"
      },
      "source": [
        "## Data Wrangling"
      ]
    },
    {
      "cell_type": "markdown",
      "metadata": {
        "id": "sXU2GBYu8DC1"
      },
      "source": [
        "### Gathering Data"
      ]
    },
    {
      "cell_type": "code",
      "execution_count": 90,
      "metadata": {
        "id": "zjCBk1BI8DC1",
        "colab": {
          "base_uri": "https://localhost:8080/"
        },
        "outputId": "a7b23b59-23f1-40dd-825e-9d14a983e0fc"
      },
      "outputs": [
        {
          "output_type": "stream",
          "name": "stdout",
          "text": [
            "   instant      dteday  season  yr  mnth  holiday  weekday  workingday  \\\n",
            "0        1  2011-01-01       1   0     1        0        6           0   \n",
            "1        2  2011-01-02       1   0     1        0        0           0   \n",
            "2        3  2011-01-03       1   0     1        0        1           1   \n",
            "3        4  2011-01-04       1   0     1        0        2           1   \n",
            "4        5  2011-01-05       1   0     1        0        3           1   \n",
            "\n",
            "   weathersit      temp     atemp       hum  windspeed  casual  registered  \\\n",
            "0           2  0.344167  0.363625  0.805833   0.160446     331         654   \n",
            "1           2  0.363478  0.353739  0.696087   0.248539     131         670   \n",
            "2           1  0.196364  0.189405  0.437273   0.248309     120        1229   \n",
            "3           1  0.200000  0.212122  0.590435   0.160296     108        1454   \n",
            "4           1  0.226957  0.229270  0.436957   0.186900      82        1518   \n",
            "\n",
            "    cnt  \n",
            "0   985  \n",
            "1   801  \n",
            "2  1349  \n",
            "3  1562  \n",
            "4  1600  \n",
            "   instant      dteday  season  yr  mnth  hr  holiday  weekday  workingday  \\\n",
            "0        1  2011-01-01       1   0     1   0        0        6           0   \n",
            "1        2  2011-01-01       1   0     1   1        0        6           0   \n",
            "2        3  2011-01-01       1   0     1   2        0        6           0   \n",
            "3        4  2011-01-01       1   0     1   3        0        6           0   \n",
            "4        5  2011-01-01       1   0     1   4        0        6           0   \n",
            "\n",
            "   weathersit  temp   atemp   hum  windspeed  casual  registered  cnt  \n",
            "0           1  0.24  0.2879  0.81        0.0       3          13   16  \n",
            "1           1  0.22  0.2727  0.80        0.0       8          32   40  \n",
            "2           1  0.22  0.2727  0.80        0.0       5          27   32  \n",
            "3           1  0.24  0.2879  0.75        0.0       3          10   13  \n",
            "4           1  0.24  0.2879  0.75        0.0       0           1    1  \n",
            "\n",
            "\n",
            "Daily basis bike-sharing dataset shape: (731, 16)\n",
            "Hourly basis bike-sharing dataset shape: (17379, 17)\n"
          ]
        }
      ],
      "source": [
        "df_day = pd.read_csv('/content/day.csv')\n",
        "df_hour = pd.read_csv('/content/hour.csv')\n",
        "\n",
        "print(df_day.head())\n",
        "print(df_hour.head())\n",
        "\n",
        "print(\"\\n\")\n",
        "\n",
        "print(\"Daily basis bike-sharing dataset shape:\", df_day.shape)\n",
        "print(\"Hourly basis bike-sharing dataset shape:\", df_hour.shape)"
      ]
    },
    {
      "cell_type": "markdown",
      "source": [
        "In gather data section, I am simply gathering the data. I have two variables: `df_day` for daily basis bike-sharing dataset and `df_hour` for hourly basis bike-sharing dataset. And I printed the first 5 rows of the dataset. I displayed the shape of each bike-sharing dataset. Daily basis bike-sharing dataset has 731 rows and 16 columns and hourly basis bike-sharing dataset has 17379 rows and 17 columns."
      ],
      "metadata": {
        "id": "MMi6xGaDkbCi"
      }
    },
    {
      "cell_type": "markdown",
      "metadata": {
        "id": "FHSiqaZp8DC1"
      },
      "source": [
        "### Assessing Data"
      ]
    },
    {
      "cell_type": "code",
      "source": [
        "print(df_day.info(), \"\\n\")\n",
        "print(df_hour.info(), \"\\n\")\n",
        "\n",
        "print(df_day.isnull().sum(), \"\\n\")\n",
        "print(df_hour.isnull().sum(), \"\\n\")\n",
        "\n",
        "print(df_day.describe(), \"\\n\")\n",
        "print(df_hour.describe(), \"\\n\")"
      ],
      "metadata": {
        "id": "ax-3tEjc9Cj1",
        "colab": {
          "base_uri": "https://localhost:8080/"
        },
        "outputId": "88757f2e-a230-4f30-9b0b-6e1c6b84e92e"
      },
      "execution_count": 91,
      "outputs": [
        {
          "output_type": "stream",
          "name": "stdout",
          "text": [
            "<class 'pandas.core.frame.DataFrame'>\n",
            "RangeIndex: 731 entries, 0 to 730\n",
            "Data columns (total 16 columns):\n",
            " #   Column      Non-Null Count  Dtype  \n",
            "---  ------      --------------  -----  \n",
            " 0   instant     731 non-null    int64  \n",
            " 1   dteday      731 non-null    object \n",
            " 2   season      731 non-null    int64  \n",
            " 3   yr          731 non-null    int64  \n",
            " 4   mnth        731 non-null    int64  \n",
            " 5   holiday     731 non-null    int64  \n",
            " 6   weekday     731 non-null    int64  \n",
            " 7   workingday  731 non-null    int64  \n",
            " 8   weathersit  731 non-null    int64  \n",
            " 9   temp        731 non-null    float64\n",
            " 10  atemp       731 non-null    float64\n",
            " 11  hum         731 non-null    float64\n",
            " 12  windspeed   731 non-null    float64\n",
            " 13  casual      731 non-null    int64  \n",
            " 14  registered  731 non-null    int64  \n",
            " 15  cnt         731 non-null    int64  \n",
            "dtypes: float64(4), int64(11), object(1)\n",
            "memory usage: 91.5+ KB\n",
            "None \n",
            "\n",
            "<class 'pandas.core.frame.DataFrame'>\n",
            "RangeIndex: 17379 entries, 0 to 17378\n",
            "Data columns (total 17 columns):\n",
            " #   Column      Non-Null Count  Dtype  \n",
            "---  ------      --------------  -----  \n",
            " 0   instant     17379 non-null  int64  \n",
            " 1   dteday      17379 non-null  object \n",
            " 2   season      17379 non-null  int64  \n",
            " 3   yr          17379 non-null  int64  \n",
            " 4   mnth        17379 non-null  int64  \n",
            " 5   hr          17379 non-null  int64  \n",
            " 6   holiday     17379 non-null  int64  \n",
            " 7   weekday     17379 non-null  int64  \n",
            " 8   workingday  17379 non-null  int64  \n",
            " 9   weathersit  17379 non-null  int64  \n",
            " 10  temp        17379 non-null  float64\n",
            " 11  atemp       17379 non-null  float64\n",
            " 12  hum         17379 non-null  float64\n",
            " 13  windspeed   17379 non-null  float64\n",
            " 14  casual      17379 non-null  int64  \n",
            " 15  registered  17379 non-null  int64  \n",
            " 16  cnt         17379 non-null  int64  \n",
            "dtypes: float64(4), int64(12), object(1)\n",
            "memory usage: 2.3+ MB\n",
            "None \n",
            "\n",
            "instant       0\n",
            "dteday        0\n",
            "season        0\n",
            "yr            0\n",
            "mnth          0\n",
            "holiday       0\n",
            "weekday       0\n",
            "workingday    0\n",
            "weathersit    0\n",
            "temp          0\n",
            "atemp         0\n",
            "hum           0\n",
            "windspeed     0\n",
            "casual        0\n",
            "registered    0\n",
            "cnt           0\n",
            "dtype: int64 \n",
            "\n",
            "instant       0\n",
            "dteday        0\n",
            "season        0\n",
            "yr            0\n",
            "mnth          0\n",
            "hr            0\n",
            "holiday       0\n",
            "weekday       0\n",
            "workingday    0\n",
            "weathersit    0\n",
            "temp          0\n",
            "atemp         0\n",
            "hum           0\n",
            "windspeed     0\n",
            "casual        0\n",
            "registered    0\n",
            "cnt           0\n",
            "dtype: int64 \n",
            "\n",
            "          instant      season          yr        mnth     holiday     weekday  \\\n",
            "count  731.000000  731.000000  731.000000  731.000000  731.000000  731.000000   \n",
            "mean   366.000000    2.496580    0.500684    6.519836    0.028728    2.997264   \n",
            "std    211.165812    1.110807    0.500342    3.451913    0.167155    2.004787   \n",
            "min      1.000000    1.000000    0.000000    1.000000    0.000000    0.000000   \n",
            "25%    183.500000    2.000000    0.000000    4.000000    0.000000    1.000000   \n",
            "50%    366.000000    3.000000    1.000000    7.000000    0.000000    3.000000   \n",
            "75%    548.500000    3.000000    1.000000   10.000000    0.000000    5.000000   \n",
            "max    731.000000    4.000000    1.000000   12.000000    1.000000    6.000000   \n",
            "\n",
            "       workingday  weathersit        temp       atemp         hum   windspeed  \\\n",
            "count  731.000000  731.000000  731.000000  731.000000  731.000000  731.000000   \n",
            "mean     0.683995    1.395349    0.495385    0.474354    0.627894    0.190486   \n",
            "std      0.465233    0.544894    0.183051    0.162961    0.142429    0.077498   \n",
            "min      0.000000    1.000000    0.059130    0.079070    0.000000    0.022392   \n",
            "25%      0.000000    1.000000    0.337083    0.337842    0.520000    0.134950   \n",
            "50%      1.000000    1.000000    0.498333    0.486733    0.626667    0.180975   \n",
            "75%      1.000000    2.000000    0.655417    0.608602    0.730209    0.233214   \n",
            "max      1.000000    3.000000    0.861667    0.840896    0.972500    0.507463   \n",
            "\n",
            "            casual   registered          cnt  \n",
            "count   731.000000   731.000000   731.000000  \n",
            "mean    848.176471  3656.172367  4504.348837  \n",
            "std     686.622488  1560.256377  1937.211452  \n",
            "min       2.000000    20.000000    22.000000  \n",
            "25%     315.500000  2497.000000  3152.000000  \n",
            "50%     713.000000  3662.000000  4548.000000  \n",
            "75%    1096.000000  4776.500000  5956.000000  \n",
            "max    3410.000000  6946.000000  8714.000000   \n",
            "\n",
            "          instant        season            yr          mnth            hr  \\\n",
            "count  17379.0000  17379.000000  17379.000000  17379.000000  17379.000000   \n",
            "mean    8690.0000      2.501640      0.502561      6.537775     11.546752   \n",
            "std     5017.0295      1.106918      0.500008      3.438776      6.914405   \n",
            "min        1.0000      1.000000      0.000000      1.000000      0.000000   \n",
            "25%     4345.5000      2.000000      0.000000      4.000000      6.000000   \n",
            "50%     8690.0000      3.000000      1.000000      7.000000     12.000000   \n",
            "75%    13034.5000      3.000000      1.000000     10.000000     18.000000   \n",
            "max    17379.0000      4.000000      1.000000     12.000000     23.000000   \n",
            "\n",
            "            holiday       weekday    workingday    weathersit          temp  \\\n",
            "count  17379.000000  17379.000000  17379.000000  17379.000000  17379.000000   \n",
            "mean       0.028770      3.003683      0.682721      1.425283      0.496987   \n",
            "std        0.167165      2.005771      0.465431      0.639357      0.192556   \n",
            "min        0.000000      0.000000      0.000000      1.000000      0.020000   \n",
            "25%        0.000000      1.000000      0.000000      1.000000      0.340000   \n",
            "50%        0.000000      3.000000      1.000000      1.000000      0.500000   \n",
            "75%        0.000000      5.000000      1.000000      2.000000      0.660000   \n",
            "max        1.000000      6.000000      1.000000      4.000000      1.000000   \n",
            "\n",
            "              atemp           hum     windspeed        casual    registered  \\\n",
            "count  17379.000000  17379.000000  17379.000000  17379.000000  17379.000000   \n",
            "mean       0.475775      0.627229      0.190098     35.676218    153.786869   \n",
            "std        0.171850      0.192930      0.122340     49.305030    151.357286   \n",
            "min        0.000000      0.000000      0.000000      0.000000      0.000000   \n",
            "25%        0.333300      0.480000      0.104500      4.000000     34.000000   \n",
            "50%        0.484800      0.630000      0.194000     17.000000    115.000000   \n",
            "75%        0.621200      0.780000      0.253700     48.000000    220.000000   \n",
            "max        1.000000      1.000000      0.850700    367.000000    886.000000   \n",
            "\n",
            "                cnt  \n",
            "count  17379.000000  \n",
            "mean     189.463088  \n",
            "std      181.387599  \n",
            "min        1.000000  \n",
            "25%       40.000000  \n",
            "50%      142.000000  \n",
            "75%      281.000000  \n",
            "max      977.000000   \n",
            "\n"
          ]
        }
      ]
    },
    {
      "cell_type": "markdown",
      "source": [
        "In this step, I tried to assess whether there were any missing values in both datasets. It turns out that the number of rows and columns matches, so it can be said that there are no missing values in these datasets. However, this data is still somewhat difficult to read because the values are still quite confusing. In the next stage, I will try to clean this dataset."
      ],
      "metadata": {
        "id": "7dtxhAPrkhPL"
      }
    },
    {
      "cell_type": "markdown",
      "metadata": {
        "id": "EhN5R4hr8DC1"
      },
      "source": [
        "### Cleaning Data"
      ]
    },
    {
      "cell_type": "code",
      "source": [
        "df_day['yr'] = df_day['yr'].map({0: 2011, 1: 2012})\n",
        "df_hour['yr'] = df_hour['yr'].map({0: 2011, 1: 2012})\n",
        "\n",
        "df_day['season'] = df_day['season'].map({1: 'Spring', 2: 'Summer', 3: 'Fall', 4: 'Winter'})\n",
        "df_hour['season'] = df_hour['season'].map({1: 'Spring', 2: 'Summer', 3: 'Fall', 4: 'Winter'})\n",
        "\n",
        "df_day['weekday'] = df_day['weekday'].map({0: 'Sunday', 1: 'Monday', 2: 'Tuesday', 3: 'Wednesday', 4: 'Thursday', 5: 'Friday', 6: 'Saturday'})\n",
        "df_hour['weekday'] = df_hour['weekday'].map({0: 'Sunday', 1: 'Monday', 2: 'Tuesday', 3: 'Wednesday', 4: 'Thursday', 5: 'Friday', 6: 'Saturday'})\n",
        "\n",
        "df_day['holiday'] = df_day['holiday'].map({0: 'No', 1: 'Yes'})\n",
        "df_hour['holiday'] = df_hour['holiday'].map({0: 'No', 1: 'Yes'})\n",
        "\n",
        "df_day['workingday'] = df_day['workingday'].map({0: 'No', 1: 'Yes'})\n",
        "df_hour['workingday'] = df_hour['workingday'].map({0: 'No', 1: 'Yes'})\n",
        "\n",
        "df_day['temp'] = df_day['temp'] * 41\n",
        "df_hour['temp'] = df_hour['temp'] * 41\n",
        "\n",
        "df_day['atemp'] = df_day['atemp'] * 50\n",
        "df_hour['atemp'] = df_hour['atemp'] * 50\n",
        "\n",
        "df_day['hum'] = df_day['hum'] * 100\n",
        "df_hour['hum'] = df_hour['hum'] * 100\n",
        "\n",
        "df_day['windspeed'] = df_day['windspeed'] * 67\n",
        "df_hour['windspeed'] = df_hour['windspeed'] * 67\n",
        "\n",
        "print(df_day.describe(), \"\\n\")\n",
        "print(df_hour.describe())\n"
      ],
      "metadata": {
        "id": "jVnYpprE9Evz",
        "colab": {
          "base_uri": "https://localhost:8080/"
        },
        "outputId": "22418bd9-b920-4ed2-d1e0-101cfb4ba8e1"
      },
      "execution_count": 92,
      "outputs": [
        {
          "output_type": "stream",
          "name": "stdout",
          "text": [
            "          instant           yr        mnth  weathersit        temp  \\\n",
            "count  731.000000   731.000000  731.000000  731.000000  731.000000   \n",
            "mean   366.000000  2011.500684    6.519836    1.395349   20.310776   \n",
            "std    211.165812     0.500342    3.451913    0.544894    7.505091   \n",
            "min      1.000000  2011.000000    1.000000    1.000000    2.424346   \n",
            "25%    183.500000  2011.000000    4.000000    1.000000   13.820424   \n",
            "50%    366.000000  2012.000000    7.000000    1.000000   20.431653   \n",
            "75%    548.500000  2012.000000   10.000000    2.000000   26.872076   \n",
            "max    731.000000  2012.000000   12.000000    3.000000   35.328347   \n",
            "\n",
            "            atemp         hum   windspeed       casual   registered  \\\n",
            "count  731.000000  731.000000  731.000000   731.000000   731.000000   \n",
            "mean    23.717699   62.789406   12.762576   848.176471  3656.172367   \n",
            "std      8.148059   14.242910    5.192357   686.622488  1560.256377   \n",
            "min      3.953480    0.000000    1.500244     2.000000    20.000000   \n",
            "25%     16.892125   52.000000    9.041650   315.500000  2497.000000   \n",
            "50%     24.336650   62.666700   12.125325   713.000000  3662.000000   \n",
            "75%     30.430100   73.020850   15.625371  1096.000000  4776.500000   \n",
            "max     42.044800   97.250000   34.000021  3410.000000  6946.000000   \n",
            "\n",
            "               cnt  \n",
            "count   731.000000  \n",
            "mean   4504.348837  \n",
            "std    1937.211452  \n",
            "min      22.000000  \n",
            "25%    3152.000000  \n",
            "50%    4548.000000  \n",
            "75%    5956.000000  \n",
            "max    8714.000000   \n",
            "\n",
            "          instant            yr          mnth            hr    weathersit  \\\n",
            "count  17379.0000  17379.000000  17379.000000  17379.000000  17379.000000   \n",
            "mean    8690.0000   2011.502561      6.537775     11.546752      1.425283   \n",
            "std     5017.0295      0.500008      3.438776      6.914405      0.639357   \n",
            "min        1.0000   2011.000000      1.000000      0.000000      1.000000   \n",
            "25%     4345.5000   2011.000000      4.000000      6.000000      1.000000   \n",
            "50%     8690.0000   2012.000000      7.000000     12.000000      1.000000   \n",
            "75%    13034.5000   2012.000000     10.000000     18.000000      2.000000   \n",
            "max    17379.0000   2012.000000     12.000000     23.000000      4.000000   \n",
            "\n",
            "               temp         atemp           hum     windspeed        casual  \\\n",
            "count  17379.000000  17379.000000  17379.000000  17379.000000  17379.000000   \n",
            "mean      20.376474     23.788755     62.722884     12.736540     35.676218   \n",
            "std        7.894801      8.592511     19.292983      8.196795     49.305030   \n",
            "min        0.820000      0.000000      0.000000      0.000000      0.000000   \n",
            "25%       13.940000     16.665000     48.000000      7.001500      4.000000   \n",
            "50%       20.500000     24.240000     63.000000     12.998000     17.000000   \n",
            "75%       27.060000     31.060000     78.000000     16.997900     48.000000   \n",
            "max       41.000000     50.000000    100.000000     56.996900    367.000000   \n",
            "\n",
            "         registered           cnt  \n",
            "count  17379.000000  17379.000000  \n",
            "mean     153.786869    189.463088  \n",
            "std      151.357286    181.387599  \n",
            "min        0.000000      1.000000  \n",
            "25%       34.000000     40.000000  \n",
            "50%      115.000000    142.000000  \n",
            "75%      220.000000    281.000000  \n",
            "max      886.000000    977.000000  \n"
          ]
        }
      ]
    },
    {
      "cell_type": "markdown",
      "source": [
        "In this step, I tried to clean the data by converting some values into a more readable format. For example, I changed the year, which was previously represented by 0 or 1, into a more understandable year format. I also denormalized data that was previously normalized. For instance, I denormalized the temperature data that was originally in a normalized format."
      ],
      "metadata": {
        "id": "Q_5ejIqckiSP"
      }
    },
    {
      "cell_type": "markdown",
      "metadata": {
        "id": "gp-Y6wU38DC1"
      },
      "source": [
        "## Exploratory Data Analysis (EDA)"
      ]
    },
    {
      "cell_type": "markdown",
      "metadata": {
        "id": "MW7WF2kr8DC1"
      },
      "source": [
        "### Explore ..."
      ]
    },
    {
      "cell_type": "code",
      "execution_count": 93,
      "metadata": {
        "id": "e9CQCZjk8DC2",
        "colab": {
          "base_uri": "https://localhost:8080/"
        },
        "outputId": "29c28934-2db3-4e0e-e0cf-6fb8ba1e7aa5"
      },
      "outputs": [
        {
          "output_type": "stream",
          "name": "stdout",
          "text": [
            "                cnt                                     \n",
            "                sum         mean  min   max          std\n",
            "weathersit                                              \n",
            "1           2257952  4876.786177  431  8714  1879.483989\n",
            "2            996858  4035.862348  605  8362  1809.109918\n",
            "3             37869  1803.285714   22  4639  1240.284449\n",
            "                cnt                                 \n",
            "                sum        mean min  max         std\n",
            "weathersit                                          \n",
            "1           2338173  204.869272   1  977  189.487773\n",
            "2            795952  175.165493   1  957  165.431589\n",
            "3            158331  111.579281   1  891  133.781045\n",
            "4               223   74.333333  23  164   77.925178\n"
          ]
        }
      ],
      "source": [
        "day_weather_agg = df_day.groupby(by=\"weathersit\").agg({\n",
        "    \"cnt\": [\"sum\", \"mean\", \"min\", \"max\", \"std\"]\n",
        "})\n",
        "\n",
        "print(day_weather_agg)\n",
        "\n",
        "hour_weather_agg = df_hour.groupby(by=\"weathersit\").agg({\n",
        "    \"cnt\": [\"sum\", \"mean\", \"min\", \"max\", \"std\"]\n",
        "})\n",
        "\n",
        "print(hour_weather_agg)"
      ]
    },
    {
      "cell_type": "markdown",
      "source": [
        "**Insight (Question 1: How do weather affect the total number of bike rentals?):**\n",
        "- Better weather (weathersit = 1) leads to significantly more bike rentals. People tend to rent more bikes during clear, partly cloudy, or few clouds conditions.\n",
        "- Worse weather (weathersit = 2, 3, 4) shows a clear decline in bike rentals, with a significant drop in very poor weather conditions like heavy rain, snow, or fog.\n",
        "- Both daily and hourly data confirm this pattern, with clearer weather amplifying existing rental trends and bad weather reducing rentals across the board."
      ],
      "metadata": {
        "id": "th_Lzl2Fkj9O"
      }
    },
    {
      "cell_type": "code",
      "source": [
        "# Create a new column 'day_type' to categorize days as 'Weekday' or 'Weekend'\n",
        "df_day['day_type'] = df_day['weekday'].apply(lambda x: 'Weekend' if x in [\"Sunday\", \"Saturday\"] else 'Weekday')  # 0: Sunday, 6: Saturday\n",
        "\n",
        "# Group by 'day_type' (Weekday/Weekend) and aggregate rentals for registered and casual users\n",
        "day_weekend_weekday_rentals = df_day.groupby(by=\"day_type\", as_index=False).agg({\n",
        "    \"registered\": \"sum\",  # Total rentals by registered users\n",
        "    \"casual\": \"sum\"       # Total rentals by casual users\n",
        "})\n",
        "\n",
        "# Display the grouped data\n",
        "print(day_weekend_weekday_rentals)"
      ],
      "metadata": {
        "colab": {
          "base_uri": "https://localhost:8080/"
        },
        "id": "fg1dQtOueg-w",
        "outputId": "ccb512ce-f6d5-4403-b9de-8fe59be86b65"
      },
      "execution_count": 94,
      "outputs": [
        {
          "output_type": "stream",
          "name": "stdout",
          "text": [
            "  day_type  registered  casual\n",
            "0  Weekday     2045201  325644\n",
            "1  Weekend      627461  294373\n"
          ]
        }
      ]
    },
    {
      "cell_type": "markdown",
      "source": [
        "**Insight (Question 2: How does the number of bike rentals differ between registered and casual users on weekdays and weekends?):**\n",
        "- Registered users prefer weekdays. The number of registered users renting bikes drops significantly on weekends (from over 2 million to around 627,000 rentals).\n",
        "- Casual users are more balanced between weekdays and weekends. Casual user numbers drop on weekends as well, but the reduction isn’t as significant as with registered users (weekdays: 325,644 rentals vs. weekends: 294,373 rentals)."
      ],
      "metadata": {
        "id": "cq6gjKo2XaYj"
      }
    },
    {
      "cell_type": "markdown",
      "metadata": {
        "id": "zsyZjqak8DC2"
      },
      "source": [
        "## Visualization & Explanatory Analysis"
      ]
    },
    {
      "cell_type": "markdown",
      "metadata": {
        "id": "HZxOiQ6n8DC2"
      },
      "source": [
        "### Pertanyaan 1 - How do weather affect the total number of bike rentals?:"
      ]
    },
    {
      "cell_type": "code",
      "execution_count": 95,
      "metadata": {
        "id": "1swJUdAD8DC2",
        "colab": {
          "base_uri": "https://localhost:8080/",
          "height": 564
        },
        "outputId": "69c36bf1-0549-4168-bd09-29b73588a927"
      },
      "outputs": [
        {
          "output_type": "display_data",
          "data": {
            "text/plain": [
              "<Figure size 1000x600 with 1 Axes>"
            ],
            "image/png": "[encoded data removed]"
          },
          "metadata": {}
        }
      ],
      "source": [
        "plt.figure(figsize=(10, 6))\n",
        "sns.barplot(x=day_weather_agg.index, y=day_weather_agg['cnt']['mean'])\n",
        "plt.title('Average Bike Rentals by Weather Condition (Daily Data)')\n",
        "plt.xlabel('Weather Situation')\n",
        "plt.ylabel('Average Rentals')\n",
        "plt.xticks([0, 1, 2, 3], ['Clear/ Partly Cloudy', 'Mist', 'Light Snow/Rain', 'Heavy Rain/Snow'])\n",
        "plt.show()"
      ]
    },
    {
      "cell_type": "code",
      "source": [
        "df_rfm = df_day.groupby(by=\"weathersit\", as_index=False).agg({\n",
        "    \"dteday\": \"max\",\n",
        "    \"cnt\": [\"count\", \"sum\"]\n",
        "})\n",
        "\n",
        "df_rfm.columns = [\"weathersit\", \"max_rental_date\", \"frequency\", \"monetary\"]\n",
        "\n",
        "df_rfm[\"max_rental_date\"] = pd.to_datetime(df_rfm[\"max_rental_date\"]).dt.date\n",
        "recent_date = df_day[\"dteday\"].max()\n",
        "recent_date = pd.to_datetime(recent_date).date()\n",
        "\n",
        "df_rfm[\"recency\"] = df_rfm[\"max_rental_date\"].apply(lambda x: (recent_date - x).days)\n",
        "\n",
        "df_rfm.drop(\"max_rental_date\", axis=1, inplace=True)\n",
        "\n",
        "print(\"daily basis:\")\n",
        "print(df_rfm.head())"
      ],
      "metadata": {
        "colab": {
          "base_uri": "https://localhost:8080/"
        },
        "id": "buO6uOCxWvev",
        "outputId": "4cc77a6e-aa2e-4f10-f67a-b0ee40f24e32"
      },
      "execution_count": 96,
      "outputs": [
        {
          "output_type": "stream",
          "name": "stdout",
          "text": [
            "daily basis:\n",
            "   weathersit  frequency  monetary  recency\n",
            "0           1        463   2257952        1\n",
            "1           2        247    996858        0\n",
            "2           3         21     37869        5\n"
          ]
        }
      ]
    },
    {
      "cell_type": "code",
      "source": [
        "plt.figure(figsize=(10, 6))\n",
        "sns.barplot(x=hour_weather_agg.index, y=hour_weather_agg['cnt']['mean'])\n",
        "plt.title('Average Bike Rentals by Weather Condition (Daily Data)')\n",
        "plt.xlabel('Weather Situation')\n",
        "plt.ylabel('Average Rentals')\n",
        "plt.xticks([0, 1, 2, 3], ['Clear/ Partly Cloudy', 'Mist', 'Light Snow/Rain', 'Heavy Rain/Snow'])\n",
        "plt.show()"
      ],
      "metadata": {
        "colab": {
          "base_uri": "https://localhost:8080/",
          "height": 564
        },
        "id": "UHZO3Vmzcd03",
        "outputId": "66c02e87-cb2d-4618-c0d5-2cfe7990e3d3"
      },
      "execution_count": 97,
      "outputs": [
        {
          "output_type": "display_data",
          "data": {
            "text/plain": [
              "<Figure size 1000x600 with 1 Axes>"
            ],
            "image/png": "[encoded data removed]"
          },
          "metadata": {}
        }
      ]
    },
    {
      "cell_type": "code",
      "source": [
        "df_rfm = df_hour.groupby(by=\"weathersit\", as_index=False).agg({\n",
        "    \"dteday\": \"max\",\n",
        "    \"cnt\": [\"count\", \"sum\"]\n",
        "})\n",
        "\n",
        "df_rfm.columns = [\"weathersit\", \"max_rental_date\", \"frequency\", \"monetary\"]\n",
        "\n",
        "df_rfm[\"max_rental_date\"] = pd.to_datetime(df_rfm[\"max_rental_date\"]).dt.date\n",
        "recent_date = df_day[\"dteday\"].max()\n",
        "recent_date = pd.to_datetime(recent_date).date()\n",
        "\n",
        "df_rfm[\"recency\"] = df_rfm[\"max_rental_date\"].apply(lambda x: (recent_date - x).days)\n",
        "\n",
        "df_rfm.drop(\"max_rental_date\", axis=1, inplace=True)\n",
        "\n",
        "print(\"hourly basis:\")\n",
        "print(df_rfm.head())"
      ],
      "metadata": {
        "colab": {
          "base_uri": "https://localhost:8080/"
        },
        "id": "qAm1ujUacm0Y",
        "outputId": "065db278-56e7-4b62-f658-0b3b29ea9226"
      },
      "execution_count": 98,
      "outputs": [
        {
          "output_type": "stream",
          "name": "stdout",
          "text": [
            "hourly basis:\n",
            "   weathersit  frequency  monetary  recency\n",
            "0           1      11413   2338173        0\n",
            "1           2       4544    795952        0\n",
            "2           3       1419    158331        2\n",
            "3           4          3       223      345\n"
          ]
        }
      ]
    },
    {
      "cell_type": "markdown",
      "source": [
        "Based on the RFM analysis of bike rentals under different weather conditions, I found that weather has a significant impact on bike rental behavior.\n",
        "- Recency shows that bike rentals happen more frequently and more recently when the weather is clear or partly cloudy (weathersit = 1), while poor weather conditions like heavy rain or snow (weathersit = 3 or 4) result in fewer recent rentals.\n",
        "- Frequency reveals that people rent bikes much more often on clear days, with the number of rentals dropping as weather conditions worsen.\n",
        "- Monetary value confirms that clear weather generates the highest total number of rentals, meaning that favorable weather leads to higher demand.\n",
        "\n",
        "Overall, the analysis suggests that bike-sharing services should expect more rentals during good weather and can adjust their operations accordingly, reducing resources on bad weather days."
      ],
      "metadata": {
        "id": "mUr4mQVkdlzV"
      }
    },
    {
      "cell_type": "markdown",
      "metadata": {
        "id": "DgHI7CiU8DC2"
      },
      "source": [
        "### Pertanyaan 2 - How does the number of bike rentals differ between registered and casual users on weekdays and weekends?:"
      ]
    },
    {
      "cell_type": "code",
      "source": [
        "plt.figure(figsize=(8, 5))\n",
        "plt.bar(day_weekend_weekday_rentals['day_type'], day_weekend_weekday_rentals['registered'], label='Registered Users', alpha=0.7)\n",
        "plt.bar(day_weekend_weekday_rentals['day_type'], day_weekend_weekday_rentals['casual'], label='Casual Users', alpha=0.7, bottom=day_weekend_weekday_rentals['registered'])\n",
        "plt.title('Bike Rentals by Registered and Casual Users (Weekdays vs. Weekends)')\n",
        "plt.xlabel('Daily Basis')\n",
        "plt.ylabel('Total Rentals')\n",
        "plt.legend()\n",
        "plt.show()"
      ],
      "metadata": {
        "colab": {
          "base_uri": "https://localhost:8080/",
          "height": 502
        },
        "id": "XPc6RjDilV59",
        "outputId": "9c493d77-2470-4b99-cc87-d650495a38fa"
      },
      "execution_count": 99,
      "outputs": [
        {
          "output_type": "display_data",
          "data": {
            "text/plain": [
              "<Figure size 800x500 with 1 Axes>"
            ],
            "image/png": "[encoded data removed]"
          },
          "metadata": {}
        }
      ]
    },
    {
      "cell_type": "code",
      "execution_count": 100,
      "metadata": {
        "id": "Go0lCsvO8DC2",
        "colab": {
          "base_uri": "https://localhost:8080/"
        },
        "outputId": "ca3bc6e5-5316-4ff5-bcf7-0f6cc2fd8bb2"
      },
      "outputs": [
        {
          "output_type": "stream",
          "name": "stdout",
          "text": [
            "  day_type  recency_days  frequency_registered  frequency_casual  \\\n",
            "0  Weekday             0                   521               521   \n",
            "1  Weekend             1                   210               210   \n",
            "\n",
            "   monetary_registered  monetary_casual  \n",
            "0              2045201           325644  \n",
            "1               627461           294373  \n"
          ]
        }
      ],
      "source": [
        "df_day['day_type'] = df_day['weekday'].apply(lambda x: 'Weekend' if x in [\"Sunday\", \"Saturday\"] else 'Weekday')\n",
        "\n",
        "recency_df = df_day.groupby(by=\"day_type\", as_index=False).agg({\n",
        "    \"dteday\": \"max\"\n",
        "})\n",
        "recency_df['recency_days'] = pd.to_datetime(df_day['dteday'].max()) - pd.to_datetime(recency_df['dteday'])\n",
        "recency_df['recency_days'] = recency_df['recency_days'].dt.days\n",
        "\n",
        "frequency_df = df_day.groupby(by=\"day_type\", as_index=False).agg({\n",
        "    \"registered\": \"count\",\n",
        "    \"casual\": \"count\"\n",
        "})\n",
        "\n",
        "monetary_df = df_day.groupby(by=\"day_type\", as_index=False).agg({\n",
        "    \"registered\": \"sum\",\n",
        "    \"casual\": \"sum\"\n",
        "})\n",
        "\n",
        "df_rfm = pd.merge(recency_df[['day_type', 'recency_days']], frequency_df, on=\"day_type\")\n",
        "df_rfm = pd.merge(df_rfm, monetary_df, on=\"day_type\")\n",
        "\n",
        "df_rfm.columns = ['day_type', 'recency_days', 'frequency_registered', 'frequency_casual', 'monetary_registered', 'monetary_casual']\n",
        "\n",
        "print(df_rfm)"
      ]
    },
    {
      "cell_type": "markdown",
      "source": [
        "Based on the RFM analysis of bike rentals between weekdays and weekends, I found distinct patterns in user behavior.\n",
        "- Recency shows that bike rentals for both registered and casual users occur more recently on weekdays, suggesting that people tend to rent bikes regularly during the workweek.\n",
        "- Frequency reveals that registered users rent bikes much more often on weekdays, likely due to commuting, while casual users maintain a more balanced frequency between weekdays and weekends, possibly using bikes for leisure.\n",
        "- Monetary value indicates that weekdays generate the highest total number of rentals, especially from registered users, while casual users contribute more rentals on weekends compared to registered users.\n",
        "\n",
        "Overall, the analysis suggests that bike-sharing services should allocate more resources during weekdays to accommodate registered commuters, while focusing on leisure-oriented services for casual users on weekends."
      ],
      "metadata": {
        "id": "_0-36BDLklRg"
      }
    },
    {
      "cell_type": "markdown",
      "source": [
        "## Analisis Lanjutan (Opsional)"
      ],
      "metadata": {
        "id": "9y4VUsmcYNZ5"
      }
    },
    {
      "cell_type": "code",
      "source": [],
      "metadata": {
        "id": "iWhnzsJGYUCO"
      },
      "execution_count": null,
      "outputs": []
    },
    {
      "cell_type": "markdown",
      "metadata": {
        "id": "_WeHlCeX8DC2"
      },
      "source": [
        "## Conclusion"
      ]
    },
    {
      "cell_type": "markdown",
      "metadata": {
        "id": "ZTcyR48Y8DC2"
      },
      "source": [
        "- **Conclusion for Business Question 1 : How do weather conditions affect the total number of bike rentals?**\n",
        "\n",
        "   Based on the analysis, I found that **weather conditions significantly impact bike rental activity**. When the weather is clear or partly cloudy (weathersit = 1), the total number of rentals is much higher compared to days with worse weather, such as misty, rainy, or snowy conditions (weathersit = 3 or 4). The RFM analysis shows that bike rentals occur more recently, more frequently, and in greater numbers when the weather is favorable. Adverse weather conditions lead to a noticeable drop in bike rentals, indicating that clear and mild weather encourages more biking, while bad weather discourages it. This insight suggests that bike-sharing services can optimize their operations by deploying more bikes on clear days and reducing them during poor weather conditions to align with demand.\n",
        "\n",
        "- **Conclusion for Business Question 2 : How does the number of bike rentals differ between registered and casual users on weekdays and weekends**\n",
        "\n",
        "   From the analysis, we observed significant differences between registered and casual users in terms of bike rental behavior across weekdays and weekends. Registered users rent bikes far more frequently during the weekdays, likely for commuting purposes, and their rental numbers drop considerably on weekends. Casual users, on the other hand, have a more balanced rental pattern, with only a slight decrease in rentals on weekends, likely using bikes for leisure activities. The RFM analysis confirms that registered users are heavily reliant on the bike-sharing system for weekday activities, while casual users are more active on weekends. Bike-sharing services can use these insights to manage their resources efficiently, focusing on providing more bikes during weekdays for commuters and catering to leisure needs on weekends for casual users."
      ]
    }
  ],
  "metadata": {
    "kernelspec": {
      "display_name": "Python 3",
      "language": "python",
      "name": "python3"
    },
    "language_info": {
      "name": "python",
      "version": "3.8.0 (tags/v3.8.0:fa919fd, Oct 14 2019, 19:21:23) [MSC v.1916 32 bit (Intel)]"
    },
    "orig_nbformat": 4,
    "vscode": {
      "interpreter": {
        "hash": "972b3bf27e332e87b5379f2791f6ef9dfc79c71018c370b0d7423235e20fe4d7"
      }
    },
    "colab": {
      "provenance": []
    }
  },
  "nbformat": 4,
  "nbformat_minor": 0
}